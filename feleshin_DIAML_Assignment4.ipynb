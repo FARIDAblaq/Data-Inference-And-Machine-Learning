{
 "cells": [
  {
   "cell_type": "code",
   "execution_count": 1,
   "id": "d6ca4638",
   "metadata": {},
   "outputs": [],
   "source": [
    "#importing libraries \n",
    "import math as maths \n",
    "import numpy as np\n",
    "import statsmodels.formula.api as sm\n",
    "import statsmodels.api as smm\n",
    "import pandas as pd\n",
    "from scipy import stats  \n",
    "import matplotlib.pyplot as plt\n",
    "import seaborn as sns\n",
    "from sklearn.metrics import mean_absolute_error\n",
    "import quandl as quandl\n",
    "import matplotlib.dates\n",
    "import sklearn.metrics as skm"
   ]
  },
  {
   "cell_type": "markdown",
   "id": "c4737602",
   "metadata": {},
   "source": [
    "# Question 1"
   ]
  },
  {
   "cell_type": "code",
   "execution_count": 2,
   "id": "2bca4706",
   "metadata": {},
   "outputs": [
    {
     "name": "stdout",
     "output_type": "stream",
     "text": [
      "Correlation coefficent: 0.02655129570190993\n"
     ]
    },
    {
     "data": {
      "text/html": [
       "<table class=\"simpletable\">\n",
       "<caption>OLS Regression Results</caption>\n",
       "<tr>\n",
       "  <th>Dep. Variable:</th>            <td>y</td>        <th>  R-squared:         </th> <td>   0.001</td>\n",
       "</tr>\n",
       "<tr>\n",
       "  <th>Model:</th>                   <td>OLS</td>       <th>  Adj. R-squared:    </th> <td>  -0.003</td>\n",
       "</tr>\n",
       "<tr>\n",
       "  <th>Method:</th>             <td>Least Squares</td>  <th>  F-statistic:       </th> <td>  0.2180</td>\n",
       "</tr>\n",
       "<tr>\n",
       "  <th>Date:</th>             <td>Mon, 24 Oct 2022</td> <th>  Prob (F-statistic):</th>  <td> 0.641</td> \n",
       "</tr>\n",
       "<tr>\n",
       "  <th>Time:</th>                 <td>17:39:42</td>     <th>  Log-Likelihood:    </th> <td>  560.48</td>\n",
       "</tr>\n",
       "<tr>\n",
       "  <th>No. Observations:</th>      <td>   311</td>      <th>  AIC:               </th> <td>  -1117.</td>\n",
       "</tr>\n",
       "<tr>\n",
       "  <th>Df Residuals:</th>          <td>   309</td>      <th>  BIC:               </th> <td>  -1109.</td>\n",
       "</tr>\n",
       "<tr>\n",
       "  <th>Df Model:</th>              <td>     1</td>      <th>                     </th>     <td> </td>   \n",
       "</tr>\n",
       "<tr>\n",
       "  <th>Covariance Type:</th>      <td>nonrobust</td>    <th>                     </th>     <td> </td>   \n",
       "</tr>\n",
       "</table>\n",
       "<table class=\"simpletable\">\n",
       "<tr>\n",
       "    <td></td>       <th>coef</th>     <th>std err</th>      <th>t</th>      <th>P>|t|</th>  <th>[0.025</th>    <th>0.975]</th>  \n",
       "</tr>\n",
       "<tr>\n",
       "  <th>const</th> <td>    0.0040</td> <td>    0.002</td> <td>    1.661</td> <td> 0.098</td> <td>   -0.001</td> <td>    0.009</td>\n",
       "</tr>\n",
       "<tr>\n",
       "  <th>x1</th>    <td>    0.0932</td> <td>    0.200</td> <td>    0.467</td> <td> 0.641</td> <td>   -0.300</td> <td>    0.486</td>\n",
       "</tr>\n",
       "</table>\n",
       "<table class=\"simpletable\">\n",
       "<tr>\n",
       "  <th>Omnibus:</th>       <td>12.006</td> <th>  Durbin-Watson:     </th> <td>   1.956</td>\n",
       "</tr>\n",
       "<tr>\n",
       "  <th>Prob(Omnibus):</th> <td> 0.002</td> <th>  Jarque-Bera (JB):  </th> <td>  12.486</td>\n",
       "</tr>\n",
       "<tr>\n",
       "  <th>Skew:</th>          <td>-0.434</td> <th>  Prob(JB):          </th> <td> 0.00194</td>\n",
       "</tr>\n",
       "<tr>\n",
       "  <th>Kurtosis:</th>      <td> 3.458</td> <th>  Cond. No.          </th> <td>    88.0</td>\n",
       "</tr>\n",
       "</table><br/><br/>Notes:<br/>[1] Standard Errors assume that the covariance matrix of the errors is correctly specified."
      ],
      "text/plain": [
       "<class 'statsmodels.iolib.summary.Summary'>\n",
       "\"\"\"\n",
       "                            OLS Regression Results                            \n",
       "==============================================================================\n",
       "Dep. Variable:                      y   R-squared:                       0.001\n",
       "Model:                            OLS   Adj. R-squared:                 -0.003\n",
       "Method:                 Least Squares   F-statistic:                    0.2180\n",
       "Date:                Mon, 24 Oct 2022   Prob (F-statistic):              0.641\n",
       "Time:                        17:39:42   Log-Likelihood:                 560.48\n",
       "No. Observations:                 311   AIC:                            -1117.\n",
       "Df Residuals:                     309   BIC:                            -1109.\n",
       "Df Model:                           1                                         \n",
       "Covariance Type:            nonrobust                                         \n",
       "==============================================================================\n",
       "                 coef    std err          t      P>|t|      [0.025      0.975]\n",
       "------------------------------------------------------------------------------\n",
       "const          0.0040      0.002      1.661      0.098      -0.001       0.009\n",
       "x1             0.0932      0.200      0.467      0.641      -0.300       0.486\n",
       "==============================================================================\n",
       "Omnibus:                       12.006   Durbin-Watson:                   1.956\n",
       "Prob(Omnibus):                  0.002   Jarque-Bera (JB):               12.486\n",
       "Skew:                          -0.434   Prob(JB):                      0.00194\n",
       "Kurtosis:                       3.458   Cond. No.                         88.0\n",
       "==============================================================================\n",
       "\n",
       "Notes:\n",
       "[1] Standard Errors assume that the covariance matrix of the errors is correctly specified.\n",
       "\"\"\""
      ]
     },
     "execution_count": 2,
     "metadata": {},
     "output_type": "execute_result"
    }
   ],
   "source": [
    "ftse=pd.read_csv(\"FTSE100.csv\") #read data \n",
    "monthly=pd.read_excel(\"Monthly.xls\")\n",
    "ftse['Date'] = pd.to_datetime(ftse['Date'])\n",
    "ftse = ftse.sort_index(axis=0, ascending=False)\n",
    "\n",
    "ftse_returns = []\n",
    "house_returns = []\n",
    "\n",
    "#monthly returns of ftse\n",
    "for i in range(len(ftse['Adj Close'])-1,0,-1):\n",
    "    ftse_returns.append((ftse['Adj Close'][i-1]/ftse['Adj Close'][i])-1)\n",
    "\n",
    "# monthly returns of monthly housing data \n",
    "for i in range(1,len(monthly[\"Average House Price\"][0:312])):\n",
    "    house_returns.append((monthly[\"Average House Price\"][i]/monthly[\"Average House Price\"][i-1])-1)\n",
    "x=np.array(house_returns) #convert to np array\n",
    "y=np.array(ftse_returns)\n",
    "\n",
    "#calculating the correlation coefficient \n",
    "corr,_=stats.pearsonr(x,y)\n",
    "print( \"Correlation coefficent:\",corr)\n",
    "x=smm.add_constant(x) #adding a constant \n",
    "lm = smm.OLS(y,x).fit() #fit the model \n",
    "lm.summary() #print the summary "
   ]
  },
  {
   "cell_type": "code",
   "execution_count": 71,
   "id": "ae23b673",
   "metadata": {},
   "outputs": [
    {
     "data": {
      "text/plain": [
       "Text(0.5, 1.0, 'Scatterplot of FTSE against Monthly house returns')"
      ]
     },
     "execution_count": 71,
     "metadata": {},
     "output_type": "execute_result"
    },
    {
     "data": {
      "image/png": "[encoded data removed]",
      "text/plain": [
       "<Figure size 432x288 with 1 Axes>"
      ]
     },
     "metadata": {
      "needs_background": "light"
     },
     "output_type": "display_data"
    }
   ],
   "source": [
    "#plotting the actual values on a scatterplot\n",
    "plt.scatter(np.array(house_returns),y,label='actual')\n",
    "plt.xlabel(\"Monthly House Returns\")\n",
    "plt.ylabel(\"FTSE100\")\n",
    "plt.title(\"Scatterplot of FTSE against Monthly house returns\")"
   ]
  },
  {
   "cell_type": "code",
   "execution_count": 3,
   "id": "4ad9f2b9",
   "metadata": {},
   "outputs": [
    {
     "name": "stderr",
     "output_type": "stream",
     "text": [
      "C:\\Users\\Farida Eleshin\\anaconda3\\lib\\site-packages\\seaborn\\_decorators.py:36: FutureWarning: Pass the following variables as keyword args: x, y. From version 0.12, the only valid positional argument will be `data`, and passing other arguments without an explicit keyword will result in an error or misinterpretation.\n",
      "  warnings.warn(\n"
     ]
    },
    {
     "data": {
      "image/png": "[encoded data removed]",
      "text/plain": [
       "<Figure size 432x288 with 1 Axes>"
      ]
     },
     "metadata": {
      "needs_background": "light"
     },
     "output_type": "display_data"
    }
   ],
   "source": [
    "#plotting the actual values on a scatterplot\n",
    "y_pred = 0.0932*np.array(house_returns)+0.0040\n",
    "plt.scatter(np.array(house_returns),y,label='actual')\n",
    "sns.lineplot(np.array(house_returns),y_pred,color='red',label='line of best fit') #plot a line of best fit \n",
    "plt.xlabel(\"Monthly House Returns\")\n",
    "plt.ylabel(\"FTSE100\")\n",
    "plt.title(\"Scatterplot of actual and predicted values of FTSE against Monthly house returns\")\n",
    "pred = lm.predict() #predictions \n",
    "#plotting a scatter of the predicted data\n",
    "plt.scatter(np.array(house_returns),pred,label='predicted')\n",
    "plt.legend()\n",
    "plt.show()"
   ]
  },
  {
   "cell_type": "code",
   "execution_count": 4,
   "id": "f60f68c8",
   "metadata": {},
   "outputs": [
    {
     "name": "stdout",
     "output_type": "stream",
     "text": [
      "Mean absolute error 0.030685981347771306\n",
      "Mean absolute percentage error 7.60660130743245\n"
     ]
    }
   ],
   "source": [
    "#checking accuracy of model\n",
    "print(\"Mean absolute error\",skm.mean_absolute_error(pred, y))\n",
    "print(\"Mean absolute percentage error\",skm.mean_absolute_percentage_error(pred, y))"
   ]
  },
  {
   "cell_type": "markdown",
   "id": "d391b0d3",
   "metadata": {},
   "source": [
    "# Question 2"
   ]
  },
  {
   "cell_type": "code",
   "execution_count": 5,
   "id": "58d6a304",
   "metadata": {
    "scrolled": true
   },
   "outputs": [
    {
     "data": {
      "text/html": [
       "<table class=\"simpletable\">\n",
       "<caption>OLS Regression Results</caption>\n",
       "<tr>\n",
       "  <th>Dep. Variable:</th>        <td>Grad.Rate</td>    <th>  R-squared:         </th> <td>   0.386</td>\n",
       "</tr>\n",
       "<tr>\n",
       "  <th>Model:</th>                   <td>OLS</td>       <th>  Adj. R-squared:    </th> <td>   0.382</td>\n",
       "</tr>\n",
       "<tr>\n",
       "  <th>Method:</th>             <td>Least Squares</td>  <th>  F-statistic:       </th> <td>   97.00</td>\n",
       "</tr>\n",
       "<tr>\n",
       "  <th>Date:</th>             <td>Mon, 24 Oct 2022</td> <th>  Prob (F-statistic):</th> <td>2.73e-79</td>\n",
       "</tr>\n",
       "<tr>\n",
       "  <th>Time:</th>                 <td>17:39:57</td>     <th>  Log-Likelihood:    </th> <td> -3121.9</td>\n",
       "</tr>\n",
       "<tr>\n",
       "  <th>No. Observations:</th>      <td>   777</td>      <th>  AIC:               </th> <td>   6256.</td>\n",
       "</tr>\n",
       "<tr>\n",
       "  <th>Df Residuals:</th>          <td>   771</td>      <th>  BIC:               </th> <td>   6284.</td>\n",
       "</tr>\n",
       "<tr>\n",
       "  <th>Df Model:</th>              <td>     5</td>      <th>                     </th>     <td> </td>   \n",
       "</tr>\n",
       "<tr>\n",
       "  <th>Covariance Type:</th>      <td>nonrobust</td>    <th>                     </th>     <td> </td>   \n",
       "</tr>\n",
       "</table>\n",
       "<table class=\"simpletable\">\n",
       "<tr>\n",
       "      <td></td>         <th>coef</th>     <th>std err</th>      <th>t</th>      <th>P>|t|</th>  <th>[0.025</th>    <th>0.975]</th>  \n",
       "</tr>\n",
       "<tr>\n",
       "  <th>const</th>     <td>   35.8962</td> <td>    2.137</td> <td>   16.800</td> <td> 0.000</td> <td>   31.702</td> <td>   40.091</td>\n",
       "</tr>\n",
       "<tr>\n",
       "  <th>Apps</th>      <td>    0.0008</td> <td>    0.000</td> <td>    3.005</td> <td> 0.003</td> <td>    0.000</td> <td>    0.001</td>\n",
       "</tr>\n",
       "<tr>\n",
       "  <th>Enroll</th>    <td>   -0.0030</td> <td>    0.001</td> <td>   -2.828</td> <td> 0.005</td> <td>   -0.005</td> <td>   -0.001</td>\n",
       "</tr>\n",
       "<tr>\n",
       "  <th>Outstate</th>  <td>    0.0017</td> <td>    0.000</td> <td>   11.124</td> <td> 0.000</td> <td>    0.001</td> <td>    0.002</td>\n",
       "</tr>\n",
       "<tr>\n",
       "  <th>Top10perc</th> <td>    0.0493</td> <td>    0.065</td> <td>    0.762</td> <td> 0.446</td> <td>   -0.078</td> <td>    0.176</td>\n",
       "</tr>\n",
       "<tr>\n",
       "  <th>Top25perc</th> <td>    0.1813</td> <td>    0.055</td> <td>    3.312</td> <td> 0.001</td> <td>    0.074</td> <td>    0.289</td>\n",
       "</tr>\n",
       "</table>\n",
       "<table class=\"simpletable\">\n",
       "<tr>\n",
       "  <th>Omnibus:</th>       <td>23.498</td> <th>  Durbin-Watson:     </th> <td>   1.946</td>\n",
       "</tr>\n",
       "<tr>\n",
       "  <th>Prob(Omnibus):</th> <td> 0.000</td> <th>  Jarque-Bera (JB):  </th> <td>  41.256</td>\n",
       "</tr>\n",
       "<tr>\n",
       "  <th>Skew:</th>          <td> 0.210</td> <th>  Prob(JB):          </th> <td>1.10e-09</td>\n",
       "</tr>\n",
       "<tr>\n",
       "  <th>Kurtosis:</th>      <td> 4.048</td> <th>  Cond. No.          </th> <td>5.13e+04</td>\n",
       "</tr>\n",
       "</table><br/><br/>Notes:<br/>[1] Standard Errors assume that the covariance matrix of the errors is correctly specified.<br/>[2] The condition number is large, 5.13e+04. This might indicate that there are<br/>strong multicollinearity or other numerical problems."
      ],
      "text/plain": [
       "<class 'statsmodels.iolib.summary.Summary'>\n",
       "\"\"\"\n",
       "                            OLS Regression Results                            \n",
       "==============================================================================\n",
       "Dep. Variable:              Grad.Rate   R-squared:                       0.386\n",
       "Model:                            OLS   Adj. R-squared:                  0.382\n",
       "Method:                 Least Squares   F-statistic:                     97.00\n",
       "Date:                Mon, 24 Oct 2022   Prob (F-statistic):           2.73e-79\n",
       "Time:                        17:39:57   Log-Likelihood:                -3121.9\n",
       "No. Observations:                 777   AIC:                             6256.\n",
       "Df Residuals:                     771   BIC:                             6284.\n",
       "Df Model:                           5                                         \n",
       "Covariance Type:            nonrobust                                         \n",
       "==============================================================================\n",
       "                 coef    std err          t      P>|t|      [0.025      0.975]\n",
       "------------------------------------------------------------------------------\n",
       "const         35.8962      2.137     16.800      0.000      31.702      40.091\n",
       "Apps           0.0008      0.000      3.005      0.003       0.000       0.001\n",
       "Enroll        -0.0030      0.001     -2.828      0.005      -0.005      -0.001\n",
       "Outstate       0.0017      0.000     11.124      0.000       0.001       0.002\n",
       "Top10perc      0.0493      0.065      0.762      0.446      -0.078       0.176\n",
       "Top25perc      0.1813      0.055      3.312      0.001       0.074       0.289\n",
       "==============================================================================\n",
       "Omnibus:                       23.498   Durbin-Watson:                   1.946\n",
       "Prob(Omnibus):                  0.000   Jarque-Bera (JB):               41.256\n",
       "Skew:                           0.210   Prob(JB):                     1.10e-09\n",
       "Kurtosis:                       4.048   Cond. No.                     5.13e+04\n",
       "==============================================================================\n",
       "\n",
       "Notes:\n",
       "[1] Standard Errors assume that the covariance matrix of the errors is correctly specified.\n",
       "[2] The condition number is large, 5.13e+04. This might indicate that there are\n",
       "strong multicollinearity or other numerical problems.\n",
       "\"\"\""
      ]
     },
     "execution_count": 5,
     "metadata": {},
     "output_type": "execute_result"
    }
   ],
   "source": [
    "college = pd.read_csv(\"College.csv\")\n",
    "df=pd.DataFrame(college) #change data into a dataframe \n",
    "y=df['Grad.Rate']\n",
    "x1=df[['Apps','Enroll','Outstate','Top10perc','Top25perc']]\n",
    "x=smm.add_constant(x1) #adding a constant \n",
    "lm = smm.OLS(y,x).fit() #fitting the model \n",
    "lm.summary() #printing summary "
   ]
  },
  {
   "cell_type": "code",
   "execution_count": 6,
   "id": "ff123755",
   "metadata": {},
   "outputs": [],
   "source": [
    "y_pred=lm.predict() #making predictions using the first model \n",
    "ini_model = 0.0008*df['Apps']-0.0030*df['Enroll']+0.0017*df['Outstate']+0.0493*df['Top10perc']+0.0813*df['Top25perc']+35.8962"
   ]
  },
  {
   "cell_type": "code",
   "execution_count": 7,
   "id": "6b273285",
   "metadata": {},
   "outputs": [
    {
     "name": "stdout",
     "output_type": "stream",
     "text": [
      "Correlation of  Apps and Grad rate:  0.14675459955109232\n",
      "Correlation of  Enroll and Grad rate:  -0.022341038639948452\n",
      "Correlation of  Outstate and Grad rate:  0.5712899282482009\n",
      "Correlation of  Top10perc and Grad rate:  0.49498923480134005\n",
      "Correlation of  Top25perc and Grad rate:  0.47728116437578316\n"
     ]
    }
   ],
   "source": [
    "#calculation correlation coefficient of all dependent and independent variables\n",
    "inds = ['Apps','Enroll','Outstate','Top10perc','Top25perc']\n",
    "for ind in inds:\n",
    "    corr2,_ = stats.pearsonr(df[ind],y)\n",
    "    print(\"Correlation of \",ind,\"and Grad rate: \",corr2)"
   ]
  },
  {
   "cell_type": "code",
   "execution_count": 8,
   "id": "d49b36d8",
   "metadata": {
    "scrolled": true
   },
   "outputs": [
    {
     "data": {
      "text/html": [
       "<table class=\"simpletable\">\n",
       "<caption>OLS Regression Results</caption>\n",
       "<tr>\n",
       "  <th>Dep. Variable:</th>        <td>Grad.Rate</td>    <th>  R-squared:         </th> <td>   0.386</td>\n",
       "</tr>\n",
       "<tr>\n",
       "  <th>Model:</th>                   <td>OLS</td>       <th>  Adj. R-squared:    </th> <td>   0.383</td>\n",
       "</tr>\n",
       "<tr>\n",
       "  <th>Method:</th>             <td>Least Squares</td>  <th>  F-statistic:       </th> <td>   121.2</td>\n",
       "</tr>\n",
       "<tr>\n",
       "  <th>Date:</th>             <td>Mon, 24 Oct 2022</td> <th>  Prob (F-statistic):</th> <td>3.10e-80</td>\n",
       "</tr>\n",
       "<tr>\n",
       "  <th>Time:</th>                 <td>17:40:23</td>     <th>  Log-Likelihood:    </th> <td> -3122.2</td>\n",
       "</tr>\n",
       "<tr>\n",
       "  <th>No. Observations:</th>      <td>   777</td>      <th>  AIC:               </th> <td>   6254.</td>\n",
       "</tr>\n",
       "<tr>\n",
       "  <th>Df Residuals:</th>          <td>   772</td>      <th>  BIC:               </th> <td>   6278.</td>\n",
       "</tr>\n",
       "<tr>\n",
       "  <th>Df Model:</th>              <td>     4</td>      <th>                     </th>     <td> </td>   \n",
       "</tr>\n",
       "<tr>\n",
       "  <th>Covariance Type:</th>      <td>nonrobust</td>    <th>                     </th>     <td> </td>   \n",
       "</tr>\n",
       "</table>\n",
       "<table class=\"simpletable\">\n",
       "<tr>\n",
       "      <td></td>         <th>coef</th>     <th>std err</th>      <th>t</th>      <th>P>|t|</th>  <th>[0.025</th>    <th>0.975]</th>  \n",
       "</tr>\n",
       "<tr>\n",
       "  <th>const</th>     <td>   34.9300</td> <td>    1.719</td> <td>   20.317</td> <td> 0.000</td> <td>   31.555</td> <td>   38.305</td>\n",
       "</tr>\n",
       "<tr>\n",
       "  <th>Apps</th>      <td>    0.0008</td> <td>    0.000</td> <td>    3.122</td> <td> 0.002</td> <td>    0.000</td> <td>    0.001</td>\n",
       "</tr>\n",
       "<tr>\n",
       "  <th>Enroll</th>    <td>   -0.0031</td> <td>    0.001</td> <td>   -2.892</td> <td> 0.004</td> <td>   -0.005</td> <td>   -0.001</td>\n",
       "</tr>\n",
       "<tr>\n",
       "  <th>Outstate</th>  <td>    0.0018</td> <td>    0.000</td> <td>   11.866</td> <td> 0.000</td> <td>    0.001</td> <td>    0.002</td>\n",
       "</tr>\n",
       "<tr>\n",
       "  <th>Top25perc</th> <td>    0.2160</td> <td>    0.030</td> <td>    7.125</td> <td> 0.000</td> <td>    0.157</td> <td>    0.276</td>\n",
       "</tr>\n",
       "</table>\n",
       "<table class=\"simpletable\">\n",
       "<tr>\n",
       "  <th>Omnibus:</th>       <td>23.227</td> <th>  Durbin-Watson:     </th> <td>   1.950</td>\n",
       "</tr>\n",
       "<tr>\n",
       "  <th>Prob(Omnibus):</th> <td> 0.000</td> <th>  Jarque-Bera (JB):  </th> <td>  41.276</td>\n",
       "</tr>\n",
       "<tr>\n",
       "  <th>Skew:</th>          <td> 0.202</td> <th>  Prob(JB):          </th> <td>1.09e-09</td>\n",
       "</tr>\n",
       "<tr>\n",
       "  <th>Kurtosis:</th>      <td> 4.055</td> <th>  Cond. No.          </th> <td>4.13e+04</td>\n",
       "</tr>\n",
       "</table><br/><br/>Notes:<br/>[1] Standard Errors assume that the covariance matrix of the errors is correctly specified.<br/>[2] The condition number is large, 4.13e+04. This might indicate that there are<br/>strong multicollinearity or other numerical problems."
      ],
      "text/plain": [
       "<class 'statsmodels.iolib.summary.Summary'>\n",
       "\"\"\"\n",
       "                            OLS Regression Results                            \n",
       "==============================================================================\n",
       "Dep. Variable:              Grad.Rate   R-squared:                       0.386\n",
       "Model:                            OLS   Adj. R-squared:                  0.383\n",
       "Method:                 Least Squares   F-statistic:                     121.2\n",
       "Date:                Mon, 24 Oct 2022   Prob (F-statistic):           3.10e-80\n",
       "Time:                        17:40:23   Log-Likelihood:                -3122.2\n",
       "No. Observations:                 777   AIC:                             6254.\n",
       "Df Residuals:                     772   BIC:                             6278.\n",
       "Df Model:                           4                                         \n",
       "Covariance Type:            nonrobust                                         \n",
       "==============================================================================\n",
       "                 coef    std err          t      P>|t|      [0.025      0.975]\n",
       "------------------------------------------------------------------------------\n",
       "const         34.9300      1.719     20.317      0.000      31.555      38.305\n",
       "Apps           0.0008      0.000      3.122      0.002       0.000       0.001\n",
       "Enroll        -0.0031      0.001     -2.892      0.004      -0.005      -0.001\n",
       "Outstate       0.0018      0.000     11.866      0.000       0.001       0.002\n",
       "Top25perc      0.2160      0.030      7.125      0.000       0.157       0.276\n",
       "==============================================================================\n",
       "Omnibus:                       23.227   Durbin-Watson:                   1.950\n",
       "Prob(Omnibus):                  0.000   Jarque-Bera (JB):               41.276\n",
       "Skew:                           0.202   Prob(JB):                     1.09e-09\n",
       "Kurtosis:                       4.055   Cond. No.                     4.13e+04\n",
       "==============================================================================\n",
       "\n",
       "Notes:\n",
       "[1] Standard Errors assume that the covariance matrix of the errors is correctly specified.\n",
       "[2] The condition number is large, 4.13e+04. This might indicate that there are\n",
       "strong multicollinearity or other numerical problems.\n",
       "\"\"\""
      ]
     },
     "execution_count": 8,
     "metadata": {},
     "output_type": "execute_result"
    }
   ],
   "source": [
    "#elimination using stepwise, backward selection. dropping irrelevant predictor variables \n",
    "x2=df[['Apps','Enroll','Outstate','Top25perc']]\n",
    "x=smm.add_constant(x2) #adding a constant \n",
    "lm2 = smm.OLS(y,x).fit() #fitting the model\n",
    "lm2.summary() #print the summary info of the model \n"
   ]
  },
  {
   "cell_type": "code",
   "execution_count": 13,
   "id": "1bed8d1c",
   "metadata": {},
   "outputs": [],
   "source": [
    "final_model =  0.0008*df['Apps']-0.0031*df['Enroll']+0.0018*df['Outstate']+0.2160*df['Top25perc']+34.93\n",
    "y2_pred=lm2.predict() #making predictions using the final model"
   ]
  },
  {
   "cell_type": "code",
   "execution_count": 14,
   "id": "ce77b4e4",
   "metadata": {},
   "outputs": [
    {
     "name": "stdout",
     "output_type": "stream",
     "text": [
      "Accuracy of model with all predictor variables: 19.051288181781928\n",
      "Accuracy of model with useful predictor variables: 19.071379260776585\n",
      "19.05128818178193\n"
     ]
    },
    {
     "data": {
      "text/plain": [
       "19.071379260776595"
      ]
     },
     "execution_count": 14,
     "metadata": {},
     "output_type": "execute_result"
    }
   ],
   "source": [
    "#calculating accuracy using MAPE \n",
    "#accuracy of model with all indicators \n",
    "mape = skm.mean_absolute_percentage_error(y,y_pred)*100\n",
    "print(\"Accuracy of model with all predictor variables:\",mape)\n",
    "\n",
    "#accuracy of model with only useful predictors \n",
    "mape2 =skm.mean_absolute_percentage_error(y,y2_pred)*100\n",
    "print(\"Accuracy of model with useful predictor variables:\",mape2)\n",
    "\n",
    "acc=np.mean(np.abs((y-y_pred)/y))*100\n",
    "print(acc)\n",
    "\n",
    "acc2=np.mean(np.abs((y-y2_pred)/y))*100\n",
    "acc2"
   ]
  },
  {
   "cell_type": "code",
   "execution_count": 15,
   "id": "ad4f2006",
   "metadata": {},
   "outputs": [
    {
     "name": "stdout",
     "output_type": "stream",
     "text": [
      "[89.20112305]\n",
      "[89.12510268]\n"
     ]
    }
   ],
   "source": [
    "print(y_pred[df.index[df['Unnamed: 0']=='Carnegie Mellon University']])\n",
    "print(y2_pred[df.index[df['Unnamed: 0']=='Carnegie Mellon University']])"
   ]
  },
  {
   "cell_type": "markdown",
   "id": "3df22816",
   "metadata": {},
   "source": [
    "# Question 3"
   ]
  },
  {
   "cell_type": "code",
   "execution_count": 106,
   "id": "84393261",
   "metadata": {},
   "outputs": [
    {
     "data": {
      "text/html": [
       "<table class=\"simpletable\">\n",
       "<caption>OLS Regression Results</caption>\n",
       "<tr>\n",
       "  <th>Dep. Variable:</th>          <td>2020</td>       <th>  R-squared:         </th> <td>   0.277</td>\n",
       "</tr>\n",
       "<tr>\n",
       "  <th>Model:</th>                   <td>OLS</td>       <th>  Adj. R-squared:    </th> <td>   0.275</td>\n",
       "</tr>\n",
       "<tr>\n",
       "  <th>Method:</th>             <td>Least Squares</td>  <th>  F-statistic:       </th> <td>   101.3</td>\n",
       "</tr>\n",
       "<tr>\n",
       "  <th>Date:</th>             <td>Thu, 20 Oct 2022</td> <th>  Prob (F-statistic):</th> <td>2.25e-20</td>\n",
       "</tr>\n",
       "<tr>\n",
       "  <th>Time:</th>                 <td>13:56:07</td>     <th>  Log-Likelihood:    </th> <td> -1086.4</td>\n",
       "</tr>\n",
       "<tr>\n",
       "  <th>No. Observations:</th>      <td>   266</td>      <th>  AIC:               </th> <td>   2177.</td>\n",
       "</tr>\n",
       "<tr>\n",
       "  <th>Df Residuals:</th>          <td>   264</td>      <th>  BIC:               </th> <td>   2184.</td>\n",
       "</tr>\n",
       "<tr>\n",
       "  <th>Df Model:</th>              <td>     1</td>      <th>                     </th>     <td> </td>   \n",
       "</tr>\n",
       "<tr>\n",
       "  <th>Covariance Type:</th>      <td>nonrobust</td>    <th>                     </th>     <td> </td>   \n",
       "</tr>\n",
       "</table>\n",
       "<table class=\"simpletable\">\n",
       "<tr>\n",
       "    <td></td>       <th>coef</th>     <th>std err</th>      <th>t</th>      <th>P>|t|</th>  <th>[0.025</th>    <th>0.975]</th>  \n",
       "</tr>\n",
       "<tr>\n",
       "  <th>const</th> <td>    5.3346</td> <td>    1.495</td> <td>    3.568</td> <td> 0.000</td> <td>    2.390</td> <td>    8.279</td>\n",
       "</tr>\n",
       "<tr>\n",
       "  <th>2020</th>  <td>    0.4353</td> <td>    0.043</td> <td>   10.063</td> <td> 0.000</td> <td>    0.350</td> <td>    0.520</td>\n",
       "</tr>\n",
       "</table>\n",
       "<table class=\"simpletable\">\n",
       "<tr>\n",
       "  <th>Omnibus:</th>       <td>46.378</td> <th>  Durbin-Watson:     </th> <td>   2.057</td>\n",
       "</tr>\n",
       "<tr>\n",
       "  <th>Prob(Omnibus):</th> <td> 0.000</td> <th>  Jarque-Bera (JB):  </th> <td>  94.767</td>\n",
       "</tr>\n",
       "<tr>\n",
       "  <th>Skew:</th>          <td> 0.881</td> <th>  Prob(JB):          </th> <td>2.64e-21</td>\n",
       "</tr>\n",
       "<tr>\n",
       "  <th>Kurtosis:</th>      <td> 5.334</td> <th>  Cond. No.          </th> <td>    58.5</td>\n",
       "</tr>\n",
       "</table><br/><br/>Notes:<br/>[1] Standard Errors assume that the covariance matrix of the errors is correctly specified."
      ],
      "text/plain": [
       "<class 'statsmodels.iolib.summary.Summary'>\n",
       "\"\"\"\n",
       "                            OLS Regression Results                            \n",
       "==============================================================================\n",
       "Dep. Variable:                   2020   R-squared:                       0.277\n",
       "Model:                            OLS   Adj. R-squared:                  0.275\n",
       "Method:                 Least Squares   F-statistic:                     101.3\n",
       "Date:                Thu, 20 Oct 2022   Prob (F-statistic):           2.25e-20\n",
       "Time:                        13:56:07   Log-Likelihood:                -1086.4\n",
       "No. Observations:                 266   AIC:                             2177.\n",
       "Df Residuals:                     264   BIC:                             2184.\n",
       "Df Model:                           1                                         \n",
       "Covariance Type:            nonrobust                                         \n",
       "==============================================================================\n",
       "                 coef    std err          t      P>|t|      [0.025      0.975]\n",
       "------------------------------------------------------------------------------\n",
       "const          5.3346      1.495      3.568      0.000       2.390       8.279\n",
       "2020           0.4353      0.043     10.063      0.000       0.350       0.520\n",
       "==============================================================================\n",
       "Omnibus:                       46.378   Durbin-Watson:                   2.057\n",
       "Prob(Omnibus):                  0.000   Jarque-Bera (JB):               94.767\n",
       "Skew:                           0.881   Prob(JB):                     2.64e-21\n",
       "Kurtosis:                       5.334   Cond. No.                         58.5\n",
       "==============================================================================\n",
       "\n",
       "Notes:\n",
       "[1] Standard Errors assume that the covariance matrix of the errors is correctly specified.\n",
       "\"\"\""
      ]
     },
     "execution_count": 106,
     "metadata": {},
     "output_type": "execute_result"
    }
   ],
   "source": [
    "#reading dataset\n",
    "importserv = pd.read_excel(\"import.xls\")\n",
    "transportserv = pd.read_excel(\"Transport services.xls\")\n",
    "\n",
    "#filling nan values with zeros\n",
    "trans_data = transportserv['2020'].fillna(0)\n",
    "import_data = importserv['2020'].fillna(0)\n",
    "trans_test = transportserv['2021'].fillna(0)\n",
    "import_test = importserv['2020'].fillna(0)\n",
    "\n",
    "x=smm.add_constant(import_data) #adding a constant \n",
    "model = smm.OLS(trans_data,x).fit() #modelling the fit \n",
    "model.summary() #summary of model "
   ]
  },
  {
   "cell_type": "code",
   "execution_count": 122,
   "id": "a7a293aa",
   "metadata": {},
   "outputs": [
    {
     "data": {
      "text/plain": [
       "Text(0.5, 1.0, 'Scatterplot of import and export transport services in 2020 ')"
      ]
     },
     "execution_count": 122,
     "metadata": {},
     "output_type": "execute_result"
    },
    {
     "data": {
      "image/png": "[encoded data removed]",
      "text/plain": [
       "<Figure size 432x288 with 1 Axes>"
      ]
     },
     "metadata": {
      "needs_background": "light"
     },
     "output_type": "display_data"
    }
   ],
   "source": [
    "plt.scatter(import_data, trans_data)\n",
    "plt.xlabel(\"Import transport services\")\n",
    "plt.ylabel(\"Export transport services\")\n",
    "plt.title(\"Scatterplot of import and export transport services in 2020 \")"
   ]
  },
  {
   "cell_type": "code",
   "execution_count": 126,
   "id": "e2baeee4",
   "metadata": {},
   "outputs": [
    {
     "name": "stdout",
     "output_type": "stream",
     "text": [
      "Accuracy of model : 3.709977163935171e+16\n",
      "0.5265355193410698\n"
     ]
    }
   ],
   "source": [
    "#predicting using a test data\n",
    "test_const = smm.add_constant(import_test) \n",
    "trans_pred = model.predict(pd.DataFrame(test_const))\n",
    "\n",
    "\n",
    "#calculating accuracy\n",
    "accc = skm.mean_absolute_percentage_error(trans_test,trans_pred)\n",
    "print(\"Accuracy of model :\",accc)\n",
    "\n",
    "\n",
    "#correlation coefficient\n",
    "corr2,_ = stats.pearsonr(import_data,trans_data)\n",
    "print(corr2)\n",
    "# print(trans_pred)"
   ]
  },
  {
   "cell_type": "code",
   "execution_count": 128,
   "id": "2c4c5906",
   "metadata": {},
   "outputs": [
    {
     "data": {
      "text/plain": [
       "Text(0.5, 1.0, 'Scatterplot of import and export transport services in 2021 ')"
      ]
     },
     "execution_count": 128,
     "metadata": {},
     "output_type": "execute_result"
    },
    {
     "data": {
      "image/png": "[encoded data removed]",
      "text/plain": [
       "<Figure size 432x288 with 1 Axes>"
      ]
     },
     "metadata": {
      "needs_background": "light"
     },
     "output_type": "display_data"
    }
   ],
   "source": [
    "plt.scatter(import_test, trans_test, label='actual')\n",
    "plt.scatter(import_test,trans_pred, label='predicted')\n",
    "plt.legend()\n",
    "plt.xlabel(\"Import transport services\")\n",
    "plt.ylabel(\"Export transport services\")\n",
    "plt.title(\"Scatterplot of import and export transport services in 2021 \")"
   ]
  },
  {
   "cell_type": "markdown",
   "id": "caa54f60",
   "metadata": {},
   "source": [
    "# Question 4"
   ]
  },
  {
   "cell_type": "code",
   "execution_count": 130,
   "id": "820e8481",
   "metadata": {},
   "outputs": [
    {
     "data": {
      "image/png": "[encoded data removed]",
      "text/plain": [
       "<Figure size 432x288 with 1 Axes>"
      ]
     },
     "metadata": {
      "needs_background": "light"
     },
     "output_type": "display_data"
    }
   ],
   "source": [
    "quandl.ApiConfig.api_key = \"vrKsXM2JLae75nsLv8EH\"\n",
    "data = quandl.get(\"ODA/ISR_LUR\") #getting data from quandl \n",
    "data = data.drop(data.index[41:45]) #dropping irrelevant data\n",
    "#visualise the data\n",
    "plt.plot(data.index,data['Value'])\n",
    "plt.xlabel(\"Date\")\n",
    "plt.ylabel(\"Unemplyment rate\")\n",
    "plt.title('Timeseries of unemployment rate by 2020')\n",
    "#change the dates to numbers\n",
    "data.index=matplotlib.dates.date2num(data.index)"
   ]
  },
  {
   "cell_type": "code",
   "execution_count": 31,
   "id": "d9a284b3",
   "metadata": {},
   "outputs": [
    {
     "data": {
      "text/html": [
       "<table class=\"simpletable\">\n",
       "<caption>OLS Regression Results</caption>\n",
       "<tr>\n",
       "  <th>Dep. Variable:</th>          <td>Value</td>      <th>  R-squared:         </th> <td>   0.001</td>\n",
       "</tr>\n",
       "<tr>\n",
       "  <th>Model:</th>                   <td>OLS</td>       <th>  Adj. R-squared:    </th> <td>  -0.025</td>\n",
       "</tr>\n",
       "<tr>\n",
       "  <th>Method:</th>             <td>Least Squares</td>  <th>  F-statistic:       </th> <td> 0.04284</td>\n",
       "</tr>\n",
       "<tr>\n",
       "  <th>Date:</th>             <td>Tue, 18 Oct 2022</td> <th>  Prob (F-statistic):</th>  <td> 0.837</td> \n",
       "</tr>\n",
       "<tr>\n",
       "  <th>Time:</th>                 <td>22:59:18</td>     <th>  Log-Likelihood:    </th> <td> -99.263</td>\n",
       "</tr>\n",
       "<tr>\n",
       "  <th>No. Observations:</th>      <td>    41</td>      <th>  AIC:               </th> <td>   202.5</td>\n",
       "</tr>\n",
       "<tr>\n",
       "  <th>Df Residuals:</th>          <td>    39</td>      <th>  BIC:               </th> <td>   206.0</td>\n",
       "</tr>\n",
       "<tr>\n",
       "  <th>Df Model:</th>              <td>     1</td>      <th>                     </th>     <td> </td>   \n",
       "</tr>\n",
       "<tr>\n",
       "  <th>Covariance Type:</th>      <td>nonrobust</td>    <th>                     </th>     <td> </td>   \n",
       "</tr>\n",
       "</table>\n",
       "<table class=\"simpletable\">\n",
       "<tr>\n",
       "    <td></td>       <th>coef</th>     <th>std err</th>      <th>t</th>      <th>P>|t|</th>  <th>[0.025</th>    <th>0.975]</th>  \n",
       "</tr>\n",
       "<tr>\n",
       "  <th>const</th> <td>    7.9165</td> <td>    1.223</td> <td>    6.472</td> <td> 0.000</td> <td>    5.442</td> <td>   10.390</td>\n",
       "</tr>\n",
       "<tr>\n",
       "  <th>x1</th>    <td> 2.089e-05</td> <td>    0.000</td> <td>    0.207</td> <td> 0.837</td> <td>   -0.000</td> <td>    0.000</td>\n",
       "</tr>\n",
       "</table>\n",
       "<table class=\"simpletable\">\n",
       "<tr>\n",
       "  <th>Omnibus:</th>       <td> 6.830</td> <th>  Durbin-Watson:     </th> <td>   0.357</td>\n",
       "</tr>\n",
       "<tr>\n",
       "  <th>Prob(Omnibus):</th> <td> 0.033</td> <th>  Jarque-Bera (JB):  </th> <td>   2.337</td>\n",
       "</tr>\n",
       "<tr>\n",
       "  <th>Skew:</th>          <td> 0.151</td> <th>  Prob(JB):          </th> <td>   0.311</td>\n",
       "</tr>\n",
       "<tr>\n",
       "  <th>Kurtosis:</th>      <td> 1.870</td> <th>  Cond. No.          </th> <td>3.40e+04</td>\n",
       "</tr>\n",
       "</table><br/><br/>Notes:<br/>[1] Standard Errors assume that the covariance matrix of the errors is correctly specified.<br/>[2] The condition number is large, 3.4e+04. This might indicate that there are<br/>strong multicollinearity or other numerical problems."
      ],
      "text/plain": [
       "<class 'statsmodels.iolib.summary.Summary'>\n",
       "\"\"\"\n",
       "                            OLS Regression Results                            \n",
       "==============================================================================\n",
       "Dep. Variable:                  Value   R-squared:                       0.001\n",
       "Model:                            OLS   Adj. R-squared:                 -0.025\n",
       "Method:                 Least Squares   F-statistic:                   0.04284\n",
       "Date:                Tue, 18 Oct 2022   Prob (F-statistic):              0.837\n",
       "Time:                        22:59:18   Log-Likelihood:                -99.263\n",
       "No. Observations:                  41   AIC:                             202.5\n",
       "Df Residuals:                      39   BIC:                             206.0\n",
       "Df Model:                           1                                         \n",
       "Covariance Type:            nonrobust                                         \n",
       "==============================================================================\n",
       "                 coef    std err          t      P>|t|      [0.025      0.975]\n",
       "------------------------------------------------------------------------------\n",
       "const          7.9165      1.223      6.472      0.000       5.442      10.390\n",
       "x1          2.089e-05      0.000      0.207      0.837      -0.000       0.000\n",
       "==============================================================================\n",
       "Omnibus:                        6.830   Durbin-Watson:                   0.357\n",
       "Prob(Omnibus):                  0.033   Jarque-Bera (JB):                2.337\n",
       "Skew:                           0.151   Prob(JB):                        0.311\n",
       "Kurtosis:                       1.870   Cond. No.                     3.40e+04\n",
       "==============================================================================\n",
       "\n",
       "Notes:\n",
       "[1] Standard Errors assume that the covariance matrix of the errors is correctly specified.\n",
       "[2] The condition number is large, 3.4e+04. This might indicate that there are\n",
       "strong multicollinearity or other numerical problems.\n",
       "\"\"\""
      ]
     },
     "execution_count": 31,
     "metadata": {},
     "output_type": "execute_result"
    }
   ],
   "source": [
    "#modelling the linear regression model\n",
    "x=data.index\n",
    "x=smm.add_constant(x) #adding a constant \n",
    "model = smm.OLS(data['Value'],x).fit() #modelling the fit \n",
    "model.summary() #summary of model "
   ]
  },
  {
   "cell_type": "code",
   "execution_count": 32,
   "id": "d07841c6",
   "metadata": {},
   "outputs": [
    {
     "data": {
      "text/plain": [
       "array([8.00040301, 8.00802802, 8.01565303, 8.02327804, 8.03092394,\n",
       "       8.03854895, 8.04617396, 8.05379897, 8.06144487, 8.06906987,\n",
       "       8.07669488, 8.08431989, 8.09196579, 8.0995908 , 8.10721581,\n",
       "       8.11484082, 8.12248672, 8.13011173, 8.13773673, 8.14536174,\n",
       "       8.15300764, 8.16063265, 8.16825766, 8.17588267, 8.18352857,\n",
       "       8.19115358, 8.19877859, 8.20640359, 8.21404949, 8.2216745 ,\n",
       "       8.22929951, 8.23692452, 8.24457042, 8.25219543, 8.25982044,\n",
       "       8.26744545, 8.27509135, 8.28271635, 8.29034136, 8.29796637,\n",
       "       8.30561227])"
      ]
     },
     "execution_count": 32,
     "metadata": {},
     "output_type": "execute_result"
    }
   ],
   "source": [
    "# predicting the unemployment rate by 2020\n",
    "model_pred=model.predict()\n",
    "model_pred"
   ]
  },
  {
   "cell_type": "code",
   "execution_count": 33,
   "id": "9fce4357",
   "metadata": {},
   "outputs": [
    {
     "name": "stdout",
     "output_type": "stream",
     "text": [
      "0.3423062774977925\n",
      "34.23062774977926\n"
     ]
    }
   ],
   "source": [
    "#finding accuracy using MAPE\n",
    "mape=skm.mean_absolute_percentage_error(data['Value'],model_pred)\n",
    "print(mape)\n",
    "\n",
    "acc=np.mean(np.abs((data['Value']-model_pred)/data['Value']))*100\n",
    "print(acc)\n"
   ]
  },
  {
   "cell_type": "code",
   "execution_count": 133,
   "id": "1fbf60ff",
   "metadata": {},
   "outputs": [
    {
     "data": {
      "text/plain": [
       "8.305612271280609"
      ]
     },
     "execution_count": 133,
     "metadata": {},
     "output_type": "execute_result"
    }
   ],
   "source": [
    "#prediction for 2020\n",
    "model_pred[-1]"
   ]
  },
  {
   "cell_type": "code",
   "execution_count": null,
   "id": "02e57b3f",
   "metadata": {},
   "outputs": [],
   "source": []
  }
 ],
 "metadata": {
  "kernelspec": {
   "display_name": "Python 3 (ipykernel)",
   "language": "python",
   "name": "python3"
  },
  "language_info": {
   "codemirror_mode": {
    "name": "ipython",
    "version": 3
   },
   "file_extension": ".py",
   "mimetype": "text/x-python",
   "name": "python",
   "nbconvert_exporter": "python",
   "pygments_lexer": "ipython3",
   "version": "3.9.12"
  }
 },
 "nbformat": 4,
 "nbformat_minor": 5
}
