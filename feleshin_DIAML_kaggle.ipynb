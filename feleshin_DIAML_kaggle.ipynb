{
 "cells": [
  {
   "cell_type": "code",
   "execution_count": 80,
   "id": "d0014d52",
   "metadata": {},
   "outputs": [],
   "source": [
    "#importing libraries\n",
    "import numpy as np\n",
    "import pandas as pd\n",
    "from sklearn.preprocessing import StandardScaler\n",
    "from sklearn.linear_model import LogisticRegression\n",
    "from sklearn.metrics import confusion_matrix, accuracy_score\n",
    "from sklearn.preprocessing import LabelEncoder\n",
    "import statsmodels.api as sm\n",
    "from sklearn.metrics import roc_auc_score\n",
    "from sklearn.ensemble import RandomForestClassifier,RandomForestRegressor\n",
    "from sklearn.model_selection import GridSearchCV"
   ]
  },
  {
   "cell_type": "code",
   "execution_count": 47,
   "id": "50423366",
   "metadata": {},
   "outputs": [
    {
     "data": {
      "text/plain": [
       "PassengerId    0\n",
       "Survived       0\n",
       "Pclass         0\n",
       "Name           0\n",
       "Sex            0\n",
       "Age            0\n",
       "SibSp          0\n",
       "Parch          0\n",
       "Ticket         0\n",
       "Fare           0\n",
       "Cabin          0\n",
       "Embarked       0\n",
       "dtype: int64"
      ]
     },
     "execution_count": 47,
     "metadata": {},
     "output_type": "execute_result"
    }
   ],
   "source": [
    "train = pd.read_csv(\"train.csv\")\n",
    "test = pd.read_csv(\"test.csv\") \n",
    "\n",
    "#data preprocessing of training and test data\n",
    "# train.isnull().sum()\n",
    "\n",
    "randoms = np.random.randint(train['Age'].mean() - train['Age'].std(),train['Age'].mean() + train['Age'].std() )\n",
    "train[\"Age\"] = train[\"Age\"].fillna(randoms)\n",
    "train[\"Cabin\"] = train[\"Cabin\"].fillna(\"G6\")\n",
    "train[\"Embarked\"] = train[\"Embarked\"].fillna(\"S\")\n",
    "train.isnull().sum()"
   ]
  },
  {
   "cell_type": "code",
   "execution_count": 48,
   "id": "20e944a5",
   "metadata": {},
   "outputs": [
    {
     "data": {
      "text/plain": [
       "PassengerId    0\n",
       "Pclass         0\n",
       "Name           0\n",
       "Sex            0\n",
       "Age            0\n",
       "SibSp          0\n",
       "Parch          0\n",
       "Ticket         0\n",
       "Fare           0\n",
       "Cabin          0\n",
       "Embarked       0\n",
       "dtype: int64"
      ]
     },
     "execution_count": 48,
     "metadata": {},
     "output_type": "execute_result"
    }
   ],
   "source": [
    "# test.isnull().sum()\n",
    "random = np.random.randint(test['Age'].mean() - test['Age'].std(),test['Age'].mean() + test['Age'].std() )\n",
    "test[\"Age\"] = test[\"Age\"].fillna(random)\n",
    "test[\"Fare\"] = test[\"Fare\"].fillna(np.random.randint(test['Fare'].mean() - test['Fare'].std(),test['Fare'].mean() + test['Fare'].std()))\n",
    "test[\"Cabin\"] = test[\"Cabin\"].fillna(\"B57 B59 B63 B66\")\n",
    "test.isnull().sum()"
   ]
  },
  {
   "cell_type": "code",
   "execution_count": 49,
   "id": "acbeae6c",
   "metadata": {},
   "outputs": [
    {
     "data": {
      "text/html": [
       "<div>\n",
       "<style scoped>\n",
       "    .dataframe tbody tr th:only-of-type {\n",
       "        vertical-align: middle;\n",
       "    }\n",
       "\n",
       "    .dataframe tbody tr th {\n",
       "        vertical-align: top;\n",
       "    }\n",
       "\n",
       "    .dataframe thead th {\n",
       "        text-align: right;\n",
       "    }\n",
       "</style>\n",
       "<table border=\"1\" class=\"dataframe\">\n",
       "  <thead>\n",
       "    <tr style=\"text-align: right;\">\n",
       "      <th></th>\n",
       "      <th>PassengerId</th>\n",
       "      <th>Survived</th>\n",
       "      <th>Pclass</th>\n",
       "      <th>Sex</th>\n",
       "      <th>Age</th>\n",
       "      <th>SibSp</th>\n",
       "      <th>Parch</th>\n",
       "      <th>Ticket</th>\n",
       "      <th>Fare</th>\n",
       "      <th>Cabin</th>\n",
       "      <th>Embarked</th>\n",
       "    </tr>\n",
       "  </thead>\n",
       "  <tbody>\n",
       "    <tr>\n",
       "      <th>0</th>\n",
       "      <td>1</td>\n",
       "      <td>0</td>\n",
       "      <td>3</td>\n",
       "      <td>male</td>\n",
       "      <td>22.0</td>\n",
       "      <td>1</td>\n",
       "      <td>0</td>\n",
       "      <td>A/5 21171</td>\n",
       "      <td>7.2500</td>\n",
       "      <td>G6</td>\n",
       "      <td>S</td>\n",
       "    </tr>\n",
       "    <tr>\n",
       "      <th>1</th>\n",
       "      <td>2</td>\n",
       "      <td>1</td>\n",
       "      <td>1</td>\n",
       "      <td>female</td>\n",
       "      <td>38.0</td>\n",
       "      <td>1</td>\n",
       "      <td>0</td>\n",
       "      <td>PC 17599</td>\n",
       "      <td>71.2833</td>\n",
       "      <td>C85</td>\n",
       "      <td>C</td>\n",
       "    </tr>\n",
       "    <tr>\n",
       "      <th>2</th>\n",
       "      <td>3</td>\n",
       "      <td>1</td>\n",
       "      <td>3</td>\n",
       "      <td>female</td>\n",
       "      <td>26.0</td>\n",
       "      <td>0</td>\n",
       "      <td>0</td>\n",
       "      <td>STON/O2. 3101282</td>\n",
       "      <td>7.9250</td>\n",
       "      <td>G6</td>\n",
       "      <td>S</td>\n",
       "    </tr>\n",
       "    <tr>\n",
       "      <th>3</th>\n",
       "      <td>4</td>\n",
       "      <td>1</td>\n",
       "      <td>1</td>\n",
       "      <td>female</td>\n",
       "      <td>35.0</td>\n",
       "      <td>1</td>\n",
       "      <td>0</td>\n",
       "      <td>113803</td>\n",
       "      <td>53.1000</td>\n",
       "      <td>C123</td>\n",
       "      <td>S</td>\n",
       "    </tr>\n",
       "    <tr>\n",
       "      <th>4</th>\n",
       "      <td>5</td>\n",
       "      <td>0</td>\n",
       "      <td>3</td>\n",
       "      <td>male</td>\n",
       "      <td>35.0</td>\n",
       "      <td>0</td>\n",
       "      <td>0</td>\n",
       "      <td>373450</td>\n",
       "      <td>8.0500</td>\n",
       "      <td>G6</td>\n",
       "      <td>S</td>\n",
       "    </tr>\n",
       "    <tr>\n",
       "      <th>...</th>\n",
       "      <td>...</td>\n",
       "      <td>...</td>\n",
       "      <td>...</td>\n",
       "      <td>...</td>\n",
       "      <td>...</td>\n",
       "      <td>...</td>\n",
       "      <td>...</td>\n",
       "      <td>...</td>\n",
       "      <td>...</td>\n",
       "      <td>...</td>\n",
       "      <td>...</td>\n",
       "    </tr>\n",
       "    <tr>\n",
       "      <th>886</th>\n",
       "      <td>887</td>\n",
       "      <td>0</td>\n",
       "      <td>2</td>\n",
       "      <td>male</td>\n",
       "      <td>27.0</td>\n",
       "      <td>0</td>\n",
       "      <td>0</td>\n",
       "      <td>211536</td>\n",
       "      <td>13.0000</td>\n",
       "      <td>G6</td>\n",
       "      <td>S</td>\n",
       "    </tr>\n",
       "    <tr>\n",
       "      <th>887</th>\n",
       "      <td>888</td>\n",
       "      <td>1</td>\n",
       "      <td>1</td>\n",
       "      <td>female</td>\n",
       "      <td>19.0</td>\n",
       "      <td>0</td>\n",
       "      <td>0</td>\n",
       "      <td>112053</td>\n",
       "      <td>30.0000</td>\n",
       "      <td>B42</td>\n",
       "      <td>S</td>\n",
       "    </tr>\n",
       "    <tr>\n",
       "      <th>888</th>\n",
       "      <td>889</td>\n",
       "      <td>0</td>\n",
       "      <td>3</td>\n",
       "      <td>female</td>\n",
       "      <td>21.0</td>\n",
       "      <td>1</td>\n",
       "      <td>2</td>\n",
       "      <td>W./C. 6607</td>\n",
       "      <td>23.4500</td>\n",
       "      <td>G6</td>\n",
       "      <td>S</td>\n",
       "    </tr>\n",
       "    <tr>\n",
       "      <th>889</th>\n",
       "      <td>890</td>\n",
       "      <td>1</td>\n",
       "      <td>1</td>\n",
       "      <td>male</td>\n",
       "      <td>26.0</td>\n",
       "      <td>0</td>\n",
       "      <td>0</td>\n",
       "      <td>111369</td>\n",
       "      <td>30.0000</td>\n",
       "      <td>C148</td>\n",
       "      <td>C</td>\n",
       "    </tr>\n",
       "    <tr>\n",
       "      <th>890</th>\n",
       "      <td>891</td>\n",
       "      <td>0</td>\n",
       "      <td>3</td>\n",
       "      <td>male</td>\n",
       "      <td>32.0</td>\n",
       "      <td>0</td>\n",
       "      <td>0</td>\n",
       "      <td>370376</td>\n",
       "      <td>7.7500</td>\n",
       "      <td>G6</td>\n",
       "      <td>Q</td>\n",
       "    </tr>\n",
       "  </tbody>\n",
       "</table>\n",
       "<p>891 rows × 11 columns</p>\n",
       "</div>"
      ],
      "text/plain": [
       "     PassengerId  Survived  Pclass     Sex   Age  SibSp  Parch  \\\n",
       "0              1         0       3    male  22.0      1      0   \n",
       "1              2         1       1  female  38.0      1      0   \n",
       "2              3         1       3  female  26.0      0      0   \n",
       "3              4         1       1  female  35.0      1      0   \n",
       "4              5         0       3    male  35.0      0      0   \n",
       "..           ...       ...     ...     ...   ...    ...    ...   \n",
       "886          887         0       2    male  27.0      0      0   \n",
       "887          888         1       1  female  19.0      0      0   \n",
       "888          889         0       3  female  21.0      1      2   \n",
       "889          890         1       1    male  26.0      0      0   \n",
       "890          891         0       3    male  32.0      0      0   \n",
       "\n",
       "               Ticket     Fare Cabin Embarked  \n",
       "0           A/5 21171   7.2500    G6        S  \n",
       "1            PC 17599  71.2833   C85        C  \n",
       "2    STON/O2. 3101282   7.9250    G6        S  \n",
       "3              113803  53.1000  C123        S  \n",
       "4              373450   8.0500    G6        S  \n",
       "..                ...      ...   ...      ...  \n",
       "886            211536  13.0000    G6        S  \n",
       "887            112053  30.0000   B42        S  \n",
       "888        W./C. 6607  23.4500    G6        S  \n",
       "889            111369  30.0000  C148        C  \n",
       "890            370376   7.7500    G6        Q  \n",
       "\n",
       "[891 rows x 11 columns]"
      ]
     },
     "execution_count": 49,
     "metadata": {},
     "output_type": "execute_result"
    }
   ],
   "source": [
    "#deleting irrelevant columns \n",
    "train.drop(['Name'], axis='columns')"
   ]
  },
  {
   "cell_type": "code",
   "execution_count": 50,
   "id": "1fc7b5f1",
   "metadata": {},
   "outputs": [],
   "source": [
    "#converting categorical to numerical\n",
    "# dummy_tic=pd.get_dummies(train[\"Ticket\"])\n",
    "train['Sex'].replace(['female', 'male'],\n",
    "                        [1, 2], inplace=True)\n",
    "test['Sex'].replace(['female', 'male'],\n",
    "                        [1, 2], inplace=True)\n",
    "train['Embarked'].replace(['C', 'S','Q'],\n",
    "                        [1, 2,3], inplace=True)\n",
    "test['Embarked'].replace(['C', 'S','Q'],\n",
    "                        [1, 2,3], inplace=True)\n",
    "train['Cabin'] = LabelEncoder().fit_transform(train['Cabin'])\n",
    "train['Ticket'] = LabelEncoder().fit_transform(train['Ticket'])\n",
    "test['Cabin'] = LabelEncoder().fit_transform(test['Cabin'])\n",
    "test['Ticket'] = LabelEncoder().fit_transform(test['Ticket'])\n",
    "\n",
    "# pd.concat([train, dummy_tic], axis='columns')\n",
    "# train.drop(['Ticket'], axis='columns')"
   ]
  },
  {
   "cell_type": "code",
   "execution_count": 51,
   "id": "e4b03388",
   "metadata": {},
   "outputs": [
    {
     "name": "stderr",
     "output_type": "stream",
     "text": [
      "C:\\Users\\Farida Eleshin\\anaconda3\\lib\\site-packages\\sklearn\\base.py:493: FutureWarning: The feature names should match those that were passed during fit. Starting version 1.2, an error will be raised.\n",
      "Feature names must be in the same order as they were in fit.\n",
      "\n",
      "  warnings.warn(message, FutureWarning)\n"
     ]
    }
   ],
   "source": [
    "#scaling data\n",
    "\n",
    "x=train[[\"Pclass\",\"Sex\",\"Age\",\"SibSp\",\"Parch\",\"Fare\",\"Ticket\",\"Cabin\",\"Embarked\"]]\n",
    "y = train['Survived']\n",
    "# print(len(y))\n",
    "scaler = StandardScaler()\n",
    "x = scaler.fit_transform(x)\n",
    "tests=test.drop(['Name','PassengerId'], axis=1)\n",
    "# test\n",
    "test= scaler.transform(tests)\n"
   ]
  },
  {
   "cell_type": "code",
   "execution_count": 53,
   "id": "6336f8de",
   "metadata": {},
   "outputs": [
    {
     "name": "stdout",
     "output_type": "stream",
     "text": [
      "418\n",
      "418\n",
      "[[128 127]\n",
      " [ 92  71]]\n"
     ]
    }
   ],
   "source": [
    "# Implementing Logistic Regression using sklearn\n",
    "modelLogistic = LogisticRegression(random_state=0)\n",
    "modelLogistic.fit(x,y)\n",
    "y_pred= modelLogistic.predict(test)\n",
    "for i in range(418,len(y)):\n",
    "    y= y.drop(i)\n",
    "print(len(y))\n",
    "print(len(y_pred))\n",
    "ConfusionMatrix = confusion_matrix(y, y_pred)\n",
    "print(ConfusionMatrix)"
   ]
  },
  {
   "cell_type": "code",
   "execution_count": 55,
   "id": "9c5e4276",
   "metadata": {},
   "outputs": [
    {
     "name": "stdout",
     "output_type": "stream",
     "text": [
      "[[150 105]\n",
      " [108  55]]\n"
     ]
    }
   ],
   "source": [
    "x2=train[[\"Pclass\",\"Sex\",\"Age\",\"SibSp\"]]\n",
    "y2 = train['Survived']\n",
    "x2 = scaler.fit_transform(x2)\n",
    "# test\n",
    "tests=tests.drop([\"Parch\",\"Fare\",\"Ticket\",\"Cabin\",\"Embarked\"], axis=1)\n",
    "tests= scaler.transform(tests)\n",
    "\n",
    "modelLogistic1 = LogisticRegression(random_state=0)\n",
    "modelLogistic1.fit(x2,y2)\n",
    "y2_pred= modelLogistic1.predict(tests)\n",
    "\n",
    "for i in range(418,len(y2)):\n",
    "    y2= y2.drop(i)\n",
    "ConfusionMatrix = confusion_matrix(y2, y2_pred)\n",
    "print(ConfusionMatrix)"
   ]
  },
  {
   "cell_type": "code",
   "execution_count": 14,
   "id": "0beddc12",
   "metadata": {},
   "outputs": [],
   "source": [
    "# testss = pd.read_csv(\"test.csv\")\n",
    "# data = {'PassengerId':testss['PassengerId'],'Survived':y2_pred}\n",
    "# data = pd.DataFrame(data)\n",
    "# # data\n",
    "# data.to_csv('titanic_submission.csv')"
   ]
  },
  {
   "cell_type": "code",
   "execution_count": 39,
   "id": "39791703",
   "metadata": {},
   "outputs": [
    {
     "data": {
      "text/plain": [
       "array([[ 0.82737724,  0.73769513,  0.51601502, ..., -1.64741882,\n",
       "        -3.23418652,  2.14282826],\n",
       "       [ 0.82737724, -1.35557354,  1.42131095, ..., -1.65154958,\n",
       "        -3.23418652,  0.19857166],\n",
       "       [-0.36936484,  0.73769513,  2.50766607, ..., -1.63816148,\n",
       "        -3.23418652,  2.14282826],\n",
       "       ...,\n",
       "       [ 0.82737724,  0.73769513,  0.80570972, ..., -1.65030418,\n",
       "        -3.23418652,  0.19857166],\n",
       "       [ 0.82737724,  0.73769513,  0.62465053, ..., -1.64631888,\n",
       "        -3.23418652,  0.19857166],\n",
       "       [ 0.82737724,  0.73769513,  0.62465053, ..., -1.57504037,\n",
       "        -3.23418652, -1.74568493]])"
      ]
     },
     "execution_count": 39,
     "metadata": {},
     "output_type": "execute_result"
    }
   ],
   "source": []
  },
  {
   "cell_type": "markdown",
   "id": "56746df9",
   "metadata": {},
   "source": [
    "# Random Forest Classifier Approach\n"
   ]
  },
  {
   "cell_type": "code",
   "execution_count": 67,
   "id": "888de5f9",
   "metadata": {},
   "outputs": [
    {
     "data": {
      "text/plain": [
       "{'n_estimators': 80}"
      ]
     },
     "execution_count": 67,
     "metadata": {},
     "output_type": "execute_result"
    }
   ],
   "source": [
    "y = train['Survived']\n",
    "rand_forest = RandomForestClassifier(random_state = 0)\n",
    "nums = [*range(30,100,5)]\n",
    "param_grid = { \n",
    "    'n_estimators': nums,\n",
    "}\n",
    "cv_rfc = GridSearchCV(estimator=rand_forest, param_grid=param_grid, cv= 5)\n",
    "cv_rfc.fit(x, y)  \n",
    "cv_rfc.best_params_"
   ]
  },
  {
   "cell_type": "code",
   "execution_count": 68,
   "id": "17aec2a1",
   "metadata": {},
   "outputs": [
    {
     "data": {
      "text/plain": [
       "RandomForestClassifier(n_estimators=80, random_state=0)"
      ]
     },
     "execution_count": 68,
     "metadata": {},
     "output_type": "execute_result"
    }
   ],
   "source": [
    "rfc1=RandomForestClassifier(random_state=0, n_estimators= 80)\n",
    "rfc1.fit(x,y)"
   ]
  },
  {
   "cell_type": "code",
   "execution_count": 69,
   "id": "c0e3911b",
   "metadata": {},
   "outputs": [
    {
     "data": {
      "text/plain": [
       "0.9999680439714953"
      ]
     },
     "execution_count": 69,
     "metadata": {},
     "output_type": "execute_result"
    }
   ],
   "source": [
    "y_predx = rfc1.predict_proba(x)[::,1]\n",
    "aucx = roc_auc_score(y, y_predx)\n",
    "aucx"
   ]
  },
  {
   "cell_type": "code",
   "execution_count": 79,
   "id": "09def16e",
   "metadata": {},
   "outputs": [],
   "source": [
    "y_pred2 = rfc1.predict_proba(test)[::,1]\n",
    "# int(y_pred2)\n",
    "# auc2 = roc_auc_score(y, y_pred2)\n",
    "# auc2\n"
   ]
  },
  {
   "cell_type": "code",
   "execution_count": 77,
   "id": "5c144974",
   "metadata": {},
   "outputs": [],
   "source": [
    "y_int = []\n",
    "for num in y_pred2:\n",
    "    num = int(num)\n",
    "    y_int.append(num)\n",
    "#     print(num)"
   ]
  },
  {
   "cell_type": "code",
   "execution_count": 78,
   "id": "2587d144",
   "metadata": {},
   "outputs": [],
   "source": [
    "testss = pd.read_csv(\"test.csv\")\n",
    "data = {'PassengerId':testss['PassengerId'],'Survived':y_int}\n",
    "data = pd.DataFrame(data)\n",
    "# data\n",
    "data.to_csv('titanic_subs.csv')"
   ]
  },
  {
   "cell_type": "code",
   "execution_count": 81,
   "id": "ab5858d1",
   "metadata": {},
   "outputs": [
    {
     "data": {
      "text/plain": [
       "{'n_estimators': 95}"
      ]
     },
     "execution_count": 81,
     "metadata": {},
     "output_type": "execute_result"
    }
   ],
   "source": [
    "rand_forestreg = RandomForestRegressor(random_state = 0)\n",
    "numsreg = [*range(30,100,5)]\n",
    "param_gridreg = { \n",
    "    'n_estimators': numsreg,\n",
    "}\n",
    "cv_rfcreg = GridSearchCV(estimator=rand_forestreg, param_grid=param_gridreg, cv= 5)\n",
    "cv_rfcreg.fit(x, y)  \n",
    "cv_rfcreg.best_params_"
   ]
  },
  {
   "cell_type": "code",
   "execution_count": 82,
   "id": "e18c5c4c",
   "metadata": {},
   "outputs": [
    {
     "data": {
      "text/plain": [
       "RandomForestRegressor(n_estimators=95, random_state=0)"
      ]
     },
     "execution_count": 82,
     "metadata": {},
     "output_type": "execute_result"
    }
   ],
   "source": [
    "rfc1reg=RandomForestRegressor(random_state=0, n_estimators= 95)\n",
    "rfc1reg.fit(x,y)"
   ]
  },
  {
   "cell_type": "code",
   "execution_count": 85,
   "id": "316dbbc1",
   "metadata": {},
   "outputs": [
    {
     "data": {
      "text/plain": [
       "0.999973369976246"
      ]
     },
     "execution_count": 85,
     "metadata": {},
     "output_type": "execute_result"
    }
   ],
   "source": [
    "y_predxreg = rfc1reg.predict(x)\n",
    "aucxreg = roc_auc_score(y, y_predxreg)\n",
    "aucxreg"
   ]
  },
  {
   "cell_type": "code",
   "execution_count": 86,
   "id": "8316759e",
   "metadata": {},
   "outputs": [],
   "source": [
    "y_pred2reg = rfc1.predict(test)"
   ]
  },
  {
   "cell_type": "code",
   "execution_count": 87,
   "id": "d7d030e9",
   "metadata": {},
   "outputs": [],
   "source": [
    "testss = pd.read_csv(\"test.csv\")\n",
    "data = {'PassengerId':testss['PassengerId'],'Survived':y_pred2reg}\n",
    "data = pd.DataFrame(data)\n",
    "# data\n",
    "data.to_csv('titanic_subsreg.csv')"
   ]
  },
  {
   "cell_type": "code",
   "execution_count": null,
   "id": "ac4b4dfa",
   "metadata": {},
   "outputs": [],
   "source": []
  }
 ],
 "metadata": {
  "kernelspec": {
   "display_name": "Python 3 (ipykernel)",
   "language": "python",
   "name": "python3"
  },
  "language_info": {
   "codemirror_mode": {
    "name": "ipython",
    "version": 3
   },
   "file_extension": ".py",
   "mimetype": "text/x-python",
   "name": "python",
   "nbconvert_exporter": "python",
   "pygments_lexer": "ipython3",
   "version": "3.9.12"
  }
 },
 "nbformat": 4,
 "nbformat_minor": 5
}
